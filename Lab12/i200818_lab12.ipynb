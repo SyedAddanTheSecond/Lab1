{
 "cells": [
  {
   "cell_type": "markdown",
   "metadata": {},
   "source": [
    "# Imports"
   ]
  },
  {
   "cell_type": "code",
   "execution_count": 10,
   "metadata": {},
   "outputs": [],
   "source": [
    "import pandas as pd\n",
    "import numpy as np\n",
    "from sklearn import preprocessing\n",
    "import matplotlib.pyplot as plt"
   ]
  },
  {
   "cell_type": "markdown",
   "metadata": {},
   "source": [
    "# Task 1"
   ]
  },
  {
   "cell_type": "code",
   "execution_count": 4,
   "metadata": {},
   "outputs": [
    {
     "data": {
      "text/html": [
       "<div>\n",
       "<style scoped>\n",
       "    .dataframe tbody tr th:only-of-type {\n",
       "        vertical-align: middle;\n",
       "    }\n",
       "\n",
       "    .dataframe tbody tr th {\n",
       "        vertical-align: top;\n",
       "    }\n",
       "\n",
       "    .dataframe thead th {\n",
       "        text-align: right;\n",
       "    }\n",
       "</style>\n",
       "<table border=\"1\" class=\"dataframe\">\n",
       "  <thead>\n",
       "    <tr style=\"text-align: right;\">\n",
       "      <th></th>\n",
       "      <th>TV</th>\n",
       "      <th>radio</th>\n",
       "      <th>newspaper</th>\n",
       "      <th>sales</th>\n",
       "    </tr>\n",
       "  </thead>\n",
       "  <tbody>\n",
       "    <tr>\n",
       "      <th>0</th>\n",
       "      <td>230.1</td>\n",
       "      <td>37.8</td>\n",
       "      <td>69.2</td>\n",
       "      <td>22.1</td>\n",
       "    </tr>\n",
       "    <tr>\n",
       "      <th>1</th>\n",
       "      <td>44.5</td>\n",
       "      <td>39.3</td>\n",
       "      <td>45.1</td>\n",
       "      <td>10.4</td>\n",
       "    </tr>\n",
       "    <tr>\n",
       "      <th>2</th>\n",
       "      <td>17.2</td>\n",
       "      <td>45.9</td>\n",
       "      <td>69.3</td>\n",
       "      <td>9.3</td>\n",
       "    </tr>\n",
       "    <tr>\n",
       "      <th>3</th>\n",
       "      <td>151.5</td>\n",
       "      <td>41.3</td>\n",
       "      <td>58.5</td>\n",
       "      <td>18.5</td>\n",
       "    </tr>\n",
       "    <tr>\n",
       "      <th>4</th>\n",
       "      <td>180.8</td>\n",
       "      <td>10.8</td>\n",
       "      <td>58.4</td>\n",
       "      <td>12.9</td>\n",
       "    </tr>\n",
       "    <tr>\n",
       "      <th>...</th>\n",
       "      <td>...</td>\n",
       "      <td>...</td>\n",
       "      <td>...</td>\n",
       "      <td>...</td>\n",
       "    </tr>\n",
       "    <tr>\n",
       "      <th>195</th>\n",
       "      <td>38.2</td>\n",
       "      <td>3.7</td>\n",
       "      <td>13.8</td>\n",
       "      <td>7.6</td>\n",
       "    </tr>\n",
       "    <tr>\n",
       "      <th>196</th>\n",
       "      <td>94.2</td>\n",
       "      <td>4.9</td>\n",
       "      <td>8.1</td>\n",
       "      <td>9.7</td>\n",
       "    </tr>\n",
       "    <tr>\n",
       "      <th>197</th>\n",
       "      <td>177.0</td>\n",
       "      <td>9.3</td>\n",
       "      <td>6.4</td>\n",
       "      <td>12.8</td>\n",
       "    </tr>\n",
       "    <tr>\n",
       "      <th>198</th>\n",
       "      <td>283.6</td>\n",
       "      <td>42.0</td>\n",
       "      <td>66.2</td>\n",
       "      <td>25.5</td>\n",
       "    </tr>\n",
       "    <tr>\n",
       "      <th>199</th>\n",
       "      <td>232.1</td>\n",
       "      <td>8.6</td>\n",
       "      <td>8.7</td>\n",
       "      <td>13.4</td>\n",
       "    </tr>\n",
       "  </tbody>\n",
       "</table>\n",
       "<p>200 rows × 4 columns</p>\n",
       "</div>"
      ],
      "text/plain": [
       "        TV  radio  newspaper  sales\n",
       "0    230.1   37.8       69.2   22.1\n",
       "1     44.5   39.3       45.1   10.4\n",
       "2     17.2   45.9       69.3    9.3\n",
       "3    151.5   41.3       58.5   18.5\n",
       "4    180.8   10.8       58.4   12.9\n",
       "..     ...    ...        ...    ...\n",
       "195   38.2    3.7       13.8    7.6\n",
       "196   94.2    4.9        8.1    9.7\n",
       "197  177.0    9.3        6.4   12.8\n",
       "198  283.6   42.0       66.2   25.5\n",
       "199  232.1    8.6        8.7   13.4\n",
       "\n",
       "[200 rows x 4 columns]"
      ]
     },
     "execution_count": 4,
     "metadata": {},
     "output_type": "execute_result"
    }
   ],
   "source": [
    "data = pd.read_csv(\"./Advertising.csv\").iloc[:,1:]\n",
    "data"
   ]
  },
  {
   "cell_type": "code",
   "execution_count": 5,
   "metadata": {},
   "outputs": [],
   "source": [
    "X = data.iloc[:, :-1].assign(ones=[1 for _ in range(len(data))]).to_numpy()\n",
    "y = data.iloc[:, -1].to_numpy()"
   ]
  },
  {
   "cell_type": "code",
   "execution_count": 6,
   "metadata": {},
   "outputs": [],
   "source": [
    "def hypothesis(X, thetas):\n",
    "    return np.dot(X, thetas)\n",
    "\n",
    "def losser(y, y_hat):\n",
    "    return np.sqrt(np.mean(np.square(y - y_hat)))                                       ####    IMPORTANT!!!!! RMSE Loss Tasken\n",
    "\n",
    "def compute_derivs(X, y, thetas):\n",
    "    derivs = []\n",
    "    for i in range(X.shape[1]-1, -1, -1):\n",
    "        deriv = -2 * np.sum((y - hypothesis(X, thetas)) * (X[:,i])) / X.shape[0]\n",
    "        derivs.append(deriv)\n",
    "    return np.array(derivs)\n",
    "\n",
    "def update_weights(thetas, alpha, derivs):\n",
    "    return thetas - (alpha * derivs)"
   ]
  },
  {
   "cell_type": "code",
   "execution_count": 7,
   "metadata": {},
   "outputs": [],
   "source": [
    "def train(X, y, alpha, epochs):\n",
    "    X = preprocessing.MinMaxScaler().fit_transform(X)\n",
    "    thetas = np.random.random(X.shape[1])\n",
    "    y_hat = hypothesis(X, thetas)\n",
    "    weights = [thetas]\n",
    "    losses = [losser(y, y_hat)]\n",
    "    for epoch in range(epochs):\n",
    "        derivs = compute_derivs(X, y, thetas)\n",
    "        thetas = update_weights(thetas, alpha, derivs)\n",
    "        y_hat = hypothesis(X, thetas)\n",
    "        loss = losser(y, y_hat)\n",
    "\n",
    "        weights.append(thetas)\n",
    "        losses.append(loss)\n",
    "\n",
    "        if (epoch + 1) % 5 == 0:\n",
    "            print(f\"Epoch {epoch + 1:3d}: Loss={loss:2.3f}\")\n",
    "\n",
    "    return np.array(weights), np.array(losses)"
   ]
  },
  {
   "cell_type": "code",
   "execution_count": 14,
   "metadata": {},
   "outputs": [
    {
     "name": "stdout",
     "output_type": "stream",
     "text": [
      "Epoch   5: Loss=11.362\n",
      "Epoch  10: Loss=9.299\n",
      "Epoch  15: Loss=8.063\n",
      "Epoch  20: Loss=7.371\n",
      "Epoch  25: Loss=7.011\n",
      "Epoch  30: Loss=6.840\n",
      "Epoch  35: Loss=6.772\n",
      "Epoch  40: Loss=6.760\n",
      "Epoch  45: Loss=6.779\n",
      "Epoch  50: Loss=6.814\n",
      "Epoch  55: Loss=6.860\n",
      "Epoch  60: Loss=6.913\n",
      "Epoch  65: Loss=6.971\n",
      "Epoch  70: Loss=7.035\n",
      "Epoch  75: Loss=7.104\n",
      "Epoch  80: Loss=7.177\n",
      "Epoch  85: Loss=7.255\n",
      "Epoch  90: Loss=7.338\n",
      "Epoch  95: Loss=7.427\n",
      "Epoch 100: Loss=7.521\n"
     ]
    }
   ],
   "source": [
    "epochs = 100\n",
    "alpha = 0.1\n",
    "history = train(X, y, alpha, epochs)"
   ]
  },
  {
   "cell_type": "code",
   "execution_count": 21,
   "metadata": {},
   "outputs": [
    {
     "data": {
      "image/png": "[encoded data removed]",
      "text/plain": [
       "<Figure size 640x480 with 1 Axes>"
      ]
     },
     "metadata": {},
     "output_type": "display_data"
    }
   ],
   "source": [
    "thetas = history[0]\n",
    "losses = history[1]\n",
    "plt.plot([i for i in range(-1, epochs)], losses, label='Training Loss')\n",
    "\n",
    "plt.title('Loss Vs. Epochs')\n",
    "plt.xlabel('Epochs')\n",
    "plt.ylabel('Loss')\n",
    "\n",
    "# Display the plot\n",
    "plt.legend(loc='best')\n",
    "plt.show()"
   ]
  },
  {
   "cell_type": "code",
   "execution_count": 23,
   "metadata": {},
   "outputs": [
    {
     "name": "stdout",
     "output_type": "stream",
     "text": [
      "Best Loss: 6.7597361230772295, Best Thetas: [ 0.25320359  9.77664708 23.40551547 33.45581245]\n"
     ]
    }
   ],
   "source": [
    "best_loss = losses[losses.argmin()]\n",
    "best_thetas = thetas[losses.argmin()]\n",
    "\n",
    "print(f\"Best Loss: {best_loss}, Best Thetas: {best_thetas}\")"
   ]
  },
  {
   "cell_type": "markdown",
   "metadata": {},
   "source": [
    "# Task 2"
   ]
  },
  {
   "cell_type": "code",
   "execution_count": 43,
   "metadata": {},
   "outputs": [],
   "source": [
    "X = np.array([[1,1],\n",
    "            [2,1],\n",
    "            [3,1],\n",
    "            [4,1],\n",
    "            [5,1]])\n",
    "y = np.array([3,5,7,9,11])"
   ]
  },
  {
   "cell_type": "code",
   "execution_count": 72,
   "metadata": {},
   "outputs": [
    {
     "name": "stdout",
     "output_type": "stream",
     "text": [
      "Epoch   5: Loss=7.506\n",
      "Epoch  10: Loss=7.506\n",
      "Epoch  15: Loss=7.506\n",
      "Epoch  20: Loss=7.506\n",
      "Epoch  25: Loss=7.506\n",
      "Epoch  30: Loss=7.506\n",
      "Epoch  35: Loss=7.506\n",
      "Epoch  40: Loss=7.506\n",
      "Epoch  45: Loss=7.506\n",
      "Epoch  50: Loss=7.506\n",
      "Epoch  55: Loss=7.506\n",
      "Epoch  60: Loss=7.506\n",
      "Epoch  65: Loss=7.506\n",
      "Epoch  70: Loss=7.506\n",
      "Epoch  75: Loss=7.506\n",
      "Epoch  80: Loss=7.506\n",
      "Epoch  85: Loss=7.506\n",
      "Epoch  90: Loss=7.506\n",
      "Epoch  95: Loss=7.506\n",
      "Epoch 100: Loss=7.506\n"
     ]
    }
   ],
   "source": [
    "epochs = 100\n",
    "alpha = 0.05\n",
    "history = train(X, y, alpha, epochs)"
   ]
  },
  {
   "cell_type": "code",
   "execution_count": 73,
   "metadata": {},
   "outputs": [
    {
     "data": {
      "image/png": "[encoded data removed]",
      "text/plain": [
       "<Figure size 640x480 with 1 Axes>"
      ]
     },
     "metadata": {},
     "output_type": "display_data"
    }
   ],
   "source": [
    "thetas = history[0]\n",
    "losses = history[1]\n",
    "plt.plot([i for i in range(-1, epochs)], losses, label='Training Loss')\n",
    "\n",
    "plt.title('Loss Vs. Epochs')\n",
    "plt.xlabel('Epochs')\n",
    "plt.ylabel('Loss')\n",
    "\n",
    "# Display the plot\n",
    "plt.legend(loc='best')\n",
    "plt.show()"
   ]
  },
  {
   "cell_type": "code",
   "execution_count": 74,
   "metadata": {},
   "outputs": [
    {
     "name": "stdout",
     "output_type": "stream",
     "text": [
      "Best Loss: 7.506219230664416, Best Thetas: [0.07318683 0.90203246]\n"
     ]
    }
   ],
   "source": [
    "best_loss = losses[losses.argmin()]\n",
    "best_thetas = thetas[losses.argmin()]\n",
    "\n",
    "print(f\"Best Loss: {best_loss}, Best Thetas: {best_thetas}\")"
   ]
  },
  {
   "cell_type": "markdown",
   "metadata": {},
   "source": [
    "# Task 3"
   ]
  },
  {
   "cell_type": "markdown",
   "metadata": {},
   "source": [
    "##### We can use Linear Regression for classification but it's not suitable because of these reasons\n",
    "1. Predicted value from the Linear Regreesion is continuous, not probabilistic, so witout thresholding we can't specify classes\n",
    "2. Linear Regression is very sensitive to imbalance data"
   ]
  },
  {
   "cell_type": "markdown",
   "metadata": {},
   "source": [
    "# Task 4"
   ]
  },
  {
   "cell_type": "markdown",
   "metadata": {},
   "source": [
    "##### Squared Error is just the sum of the square of the losses but Mean Squared Error is the squared estimate of how much a single predicted value is different from the actual value"
   ]
  },
  {
   "cell_type": "markdown",
   "metadata": {},
   "source": [
    "# Task 5"
   ]
  },
  {
   "cell_type": "markdown",
   "metadata": {},
   "source": [
    "***Root Mean Squared Error (RMSE)*** is a ***better estimate*** than ***Mean Squared Error (MSE)*** beacuse ***RMSE*** gives the ***average*** estimate of how much a single predicted value is different from the actual value whereas ***MSE*** gives the ***average squared*** estimate of how much a single predicted value is different from the actual value. This is important because the ***squared loss*** can get very large large if your parameters are off so ***to normalize the loss*** we use RMSE.   "
   ]
  }
 ],
 "metadata": {
  "kernelspec": {
   "display_name": "Python 3.11.0 64-bit",
   "language": "python",
   "name": "python3"
  },
  "language_info": {
   "codemirror_mode": {
    "name": "ipython",
    "version": 3
   },
   "file_extension": ".py",
   "mimetype": "text/x-python",
   "name": "python",
   "nbconvert_exporter": "python",
   "pygments_lexer": "ipython3",
   "version": "3.11.0"
  },
  "orig_nbformat": 4,
  "vscode": {
   "interpreter": {
    "hash": "dc9fb03e8bfd22e40e49167475f794d0fcc08396e429c32de1d6383eadf27d9b"
   }
  }
 },
 "nbformat": 4,
 "nbformat_minor": 2
}
