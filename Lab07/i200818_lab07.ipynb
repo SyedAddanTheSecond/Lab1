{
 "cells": [
  {
   "cell_type": "code",
   "execution_count": 102,
   "metadata": {},
   "outputs": [],
   "source": [
    "from collections import defaultdict\n",
    "import string"
   ]
  },
  {
   "cell_type": "code",
   "execution_count": 111,
   "metadata": {},
   "outputs": [],
   "source": [
    "pos_sen = \"I love mangoes Mangoes are a lot tastier than other fruits I like mangoes because they are good Apples are good too but I prefer mangoes People say mango is the king of fruit so that is why mangoes are good Mangoes are good because they are juicy\"\n",
    "neg_sen = \"Eating too many mangoes can have a negative impact on your health Mangoes are good but not too good I like apples more than mangoes I don't like mangoes because they are expensive Mangoes are not good I don't like mangoes\""
   ]
  },
  {
   "cell_type": "code",
   "execution_count": 112,
   "metadata": {},
   "outputs": [],
   "source": [
    "def text_regulator(sen_lis):\n",
    "    sen_lis = (sen_lis.lower()).translate(str.maketrans('', '', string.punctuation))\n",
    "    return sen_lis"
   ]
  },
  {
   "cell_type": "code",
   "execution_count": 113,
   "metadata": {},
   "outputs": [],
   "source": [
    "pos_sen, neg_sen = text_regulator(pos_sen), text_regulator(neg_sen)"
   ]
  },
  {
   "cell_type": "code",
   "execution_count": 114,
   "metadata": {},
   "outputs": [],
   "source": [
    "def word_counter(word, class_sen):\n",
    "    count = 0\n",
    "    for class_word in class_sen.split():\n",
    "        if word == class_word:\n",
    "            count += 1\n",
    "    return count\n",
    "\n",
    "def unique_counter(pos_sen, neg_sen):\n",
    "    count = 0\n",
    "    stringed = pos_sen + \" \" + neg_sen\n",
    "    count = len(set(stringed.split()))\n",
    "    return count\n",
    "\n",
    "def probabilator_pos(word, pos_sen, neg_sen):\n",
    "    return (word_counter(word, pos_sen) + 1)/(len(pos_sen.split()) + unique_counter(pos_sen, neg_sen))\n",
    "\n",
    "def probabilator_neg(word, pos_sen, neg_sen):\n",
    "    return (word_counter(word, neg_sen) + 1)/(len(neg_sen.split()) + unique_counter(pos_sen, neg_sen))"
   ]
  },
  {
   "cell_type": "code",
   "execution_count": 115,
   "metadata": {},
   "outputs": [],
   "source": [
    "def trainNB(pos_sen, neg_sen):\n",
    "    dic_pos = defaultdict(lambda: 1/(len(pos_sen.split()) + unique_counter(pos_sen, neg_sen)))\n",
    "    dic_neg = defaultdict(lambda: 1/(len(neg_sen.split()) + unique_counter(pos_sen, neg_sen)))\n",
    "    for pos_word in pos_sen.split():\n",
    "        dic_pos[pos_word] = probabilator_pos(pos_word, pos_sen, neg_sen)\n",
    "    for neg_word in neg_sen.split():\n",
    "        dic_neg[neg_word] = probabilator_neg(neg_word, pos_sen, neg_sen)\n",
    "\n",
    "    return dic_pos, dic_neg"
   ]
  },
  {
   "cell_type": "code",
   "execution_count": 116,
   "metadata": {},
   "outputs": [],
   "source": [
    "dic_pos, dic_neg = trainNB(pos_sen, neg_sen)"
   ]
  },
  {
   "cell_type": "code",
   "execution_count": 117,
   "metadata": {},
   "outputs": [],
   "source": [
    "def testNB(sen):\n",
    "    sen = text_regulator(sen)\n",
    "\n",
    "    pro_pos, pro_neg = 1, 1\n",
    "    for word in sen.split():\n",
    "        pro_pos *= dic_pos[word]\n",
    "        pro_neg *= dic_neg[word]\n",
    "    pro_pos *= 6/11\n",
    "    pro_neg *= 5/11\n",
    "    print(pro_pos, pro_neg)\n",
    "    if pro_pos > pro_neg:\n",
    "        print(\"The Sentence is Chill!\")\n",
    "    else:\n",
    "        print(\"You need to chill out ma dude!\")\n",
    "    "
   ]
  },
  {
   "cell_type": "code",
   "execution_count": 119,
   "metadata": {},
   "outputs": [
    {
     "name": "stdout",
     "output_type": "stream",
     "text": [
      "0.005994005994005994 0.005411255411255411\n",
      "The Sentence is Chill!\n"
     ]
    }
   ],
   "source": [
    "testNB(\"h\")"
   ]
  },
  {
   "cell_type": "code",
   "execution_count": null,
   "metadata": {},
   "outputs": [],
   "source": []
  }
 ],
 "metadata": {
  "kernelspec": {
   "display_name": "Python 3.10.6 64-bit",
   "language": "python",
   "name": "python3"
  },
  "language_info": {
   "codemirror_mode": {
    "name": "ipython",
    "version": 3
   },
   "file_extension": ".py",
   "mimetype": "text/x-python",
   "name": "python",
   "nbconvert_exporter": "python",
   "pygments_lexer": "ipython3",
   "version": "3.10.6"
  },
  "orig_nbformat": 4,
  "vscode": {
   "interpreter": {
    "hash": "26de051ba29f2982a8de78e945f0abaf191376122a1563185a90213a26c5da77"
   }
  }
 },
 "nbformat": 4,
 "nbformat_minor": 2
}
